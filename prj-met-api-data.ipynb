{
 "cells": [
  {
   "cell_type": "markdown",
   "id": "a723cf03-b2e1-4d12-8155-13f4ad9b16cd",
   "metadata": {},
   "source": [
    "## API calls for The MET animal art story"
   ]
  },
  {
   "cell_type": "markdown",
   "id": "46c83355-a97d-4b27-b7b0-de113dcbfc4b",
   "metadata": {},
   "source": [
    "#### This code fetches data for a list of animals. \n",
    "\n",
    "#### Ideally, I would like to not repeat myself, and create a function that inputs cats/dogs/bulls and stores data in a csv. \n",
    "\n",
    "#### But because I am new to python, this was the best I could do in veryyyy limited time."
   ]
  },
  {
   "cell_type": "code",
   "execution_count": 2,
   "id": "19fa6e35-e9b5-4814-8c19-8dd838047b67",
   "metadata": {},
   "outputs": [],
   "source": [
    "# Loading libraries\n",
    "import requests\n",
    "import json\n",
    "import pandas as pd\n",
    "import pprint\n",
    "import time"
   ]
  },
  {
   "cell_type": "code",
   "execution_count": 3,
   "id": "ccef4e68-470c-46c0-968a-afcabe3782cc",
   "metadata": {},
   "outputs": [],
   "source": [
    "# Getting a sense of how many artworks there are? Getting all object IDs.\n",
    "url = \"https://collectionapi.metmuseum.org/public/collection/v1/objects\"\n",
    "response  = requests.get(url)\n",
    "total = response.json()"
   ]
  },
  {
   "cell_type": "markdown",
   "id": "7e6d5022-fbe5-4590-aa1a-56048a07d9e1",
   "metadata": {},
   "source": [
    "#### Look at the animals in paintings at The Met using their API:\n",
    "#### NOTE: the url is for cats \"ON VIEW\" currently. Not ALL cats ever in The Met, because that API call was > 470000 and would just not complete even in 3 hours!\n",
    "#### So, the scope of the project is of artwork \"ON VIEW\" only."
   ]
  },
  {
   "cell_type": "markdown",
   "id": "de90fcea-1e83-469b-ab5b-2caa4cc85442",
   "metadata": {},
   "source": [
    "## 1. CATS"
   ]
  },
  {
   "cell_type": "code",
   "execution_count": 4,
   "id": "d9b1a347-dc40-43d4-b501-2d3394c40fe7",
   "metadata": {},
   "outputs": [],
   "source": [
    "# CATS\n",
    "#url = \"https://collectionapi.metmuseum.org/public/collection/v1/search?q=cats\"\n",
    "url = \"https://collectionapi.metmuseum.org/public/collection/v1/search?isOnView=true&q=cats\"\n",
    "response  = requests.get(url)\n",
    "cats = response.json()"
   ]
  },
  {
   "cell_type": "code",
   "execution_count": 6,
   "id": "378a4fb8-a1d4-4fed-953f-cf8bc9370f65",
   "metadata": {},
   "outputs": [],
   "source": [
    "all = []\n",
    "\n",
    "for each in cats[\"objectIDs\"]:\n",
    "    each = str(each)\n",
    "    url = \"https://collectionapi.metmuseum.org/public/collection/v1/objects/\"  + each\n",
    "    #print(url)\n",
    "    all.append(url)\n",
    "\n",
    "# all"
   ]
  },
  {
   "cell_type": "code",
   "execution_count": null,
   "id": "a8b15cfd-a9a8-473e-b420-03f25a143025",
   "metadata": {},
   "outputs": [],
   "source": [
    "# Initialize an empty list to store the JSON responses\n",
    "cat_responses = []\n",
    "count = 0\n",
    "\n",
    "# Fetch the JSON response for each URL\n",
    "for url in all:\n",
    "    #print(count)\n",
    "    #print(url)\n",
    "    response = requests.get(url)\n",
    "    cat_responses.append(response.json())\n",
    "    #print(response)\n",
    "    count += 1"
   ]
  },
  {
   "cell_type": "code",
   "execution_count": null,
   "id": "08997ace-ebea-4a8e-9ca9-45ff7a734bd4",
   "metadata": {},
   "outputs": [],
   "source": [
    "# cat_responses"
   ]
  },
  {
   "cell_type": "code",
   "execution_count": 97,
   "id": "8089681c-cb68-43d2-83bf-602c472ff2bb",
   "metadata": {},
   "outputs": [],
   "source": [
    "# save as .csv\n",
    "cat_df_view = pd.DataFrame(cat_responses)\n",
    "cat_df_view\n",
    "cat_df_view.to_csv(\"./DATA/cat_df_view.csv\", index = False)"
   ]
  },
  {
   "cell_type": "markdown",
   "id": "fd1ea43a-02a9-4967-bb91-93c8d46e4240",
   "metadata": {},
   "source": [
    "## 2. DOGS"
   ]
  },
  {
   "cell_type": "code",
   "execution_count": 98,
   "id": "0905cf82-1c16-4e14-aaa7-dc1884317692",
   "metadata": {},
   "outputs": [],
   "source": [
    "# DOGS\n",
    "url = \"https://collectionapi.metmuseum.org/public/collection/v1/search?isOnView=true&q=dogs\"\n",
    "response  = requests.get(url)\n",
    "dogs = response.json()"
   ]
  },
  {
   "cell_type": "code",
   "execution_count": 99,
   "id": "34063a52-1d8d-4886-aad8-6795ba2922ea",
   "metadata": {},
   "outputs": [],
   "source": [
    "all = []\n",
    "\n",
    "for each in dogs[\"objectIDs\"]:\n",
    "    each = str(each)\n",
    "    url = \"https://collectionapi.metmuseum.org/public/collection/v1/objects/\"  + each\n",
    "    #print(url)\n",
    "    all.append(url)\n",
    "\n",
    "# Initialize an empty list to store the JSON responses\n",
    "dog_responses = []\n",
    "\n",
    "# Fetch the JSON response for each URL\n",
    "for url in all:\n",
    "    response = requests.get(url)\n",
    "    dog_responses.append(response.json())\n",
    "\n",
    "dog_responses"
   ]
  },
  {
   "cell_type": "code",
   "execution_count": 9,
   "id": "bd84d157-67f7-4040-a065-3fb71fbcdccc",
   "metadata": {},
   "outputs": [],
   "source": [
    "# Save as .csv\n",
    "dog_df_view = pd.DataFrame(dog_responses)\n",
    "dog_df_view\n",
    "#dog_df_view.to_csv(\"./DATA/dog_df_view.csv\", index = False)"
   ]
  },
  {
   "cell_type": "markdown",
   "id": "5daf1c63-e2c9-40e4-9533-a9526c657123",
   "metadata": {},
   "source": [
    "## 3. HORSES"
   ]
  },
  {
   "cell_type": "code",
   "execution_count": 100,
   "id": "7034a87b-f407-467d-a6ec-5fe8a0d33544",
   "metadata": {},
   "outputs": [],
   "source": [
    "# HORSES\n",
    "# url = \"https://collectionapi.metmuseum.org/public/collection/v1/search?q=horse\"\n",
    "url = \"https://collectionapi.metmuseum.org/public/collection/v1/search?isOnView=true&q=horse\"\n",
    "response  = requests.get(url)\n",
    "horse = response.json()"
   ]
  },
  {
   "cell_type": "code",
   "execution_count": 24,
   "id": "15dceac4-841d-4330-beee-19546682975d",
   "metadata": {},
   "outputs": [],
   "source": [
    "all = []\n",
    "\n",
    "for each in horse[\"objectIDs\"]:\n",
    "    each = str(each)\n",
    "    url = \"https://collectionapi.metmuseum.org/public/collection/v1/objects/\"  + each\n",
    "    #print(url)\n",
    "    all.append(url)\n",
    "\n",
    "# Initialize an empty list to store the JSON responses\n",
    "horse_responses = []\n",
    "\n",
    "# Fetch the JSON response for each URL\n",
    "for url in all:\n",
    "    response = requests.get(url)\n",
    "    horse_responses.append(response.json())\n",
    "\n",
    "horse_responses"
   ]
  },
  {
   "cell_type": "code",
   "execution_count": 26,
   "id": "b785bf7f-0e2e-4ef4-959b-9628e5fa87ff",
   "metadata": {
    "scrolled": true
   },
   "outputs": [],
   "source": [
    "# Save as .csv\n",
    "horse_df_view = pd.DataFrame(horse_responses)\n",
    "horse_df_view\n",
    "# horse_df_view.to_csv(\"./DATA/horse_df_view.csv\", index = False)"
   ]
  },
  {
   "cell_type": "markdown",
   "id": "d93ad715-b7bf-4edd-aa80-af1971b5fe22",
   "metadata": {},
   "source": [
    "## 4. RABBIT"
   ]
  },
  {
   "cell_type": "code",
   "execution_count": 101,
   "id": "cddf3436-92b6-4bfc-a43b-f05328420de1",
   "metadata": {},
   "outputs": [],
   "source": [
    "# RABBIT\n",
    "url = \"https://collectionapi.metmuseum.org/public/collection/v1/search?isOnView=true&q=rabbit\"\n",
    "response  = requests.get(url)\n",
    "rabbit = response.json()"
   ]
  },
  {
   "cell_type": "code",
   "execution_count": 29,
   "id": "85deaa99-2702-459e-b43b-5b84b5566bc1",
   "metadata": {},
   "outputs": [],
   "source": [
    "all = []\n",
    "\n",
    "for each in rabbit[\"objectIDs\"]:\n",
    "    each = str(each)\n",
    "    url = \"https://collectionapi.metmuseum.org/public/collection/v1/objects/\"  + each\n",
    "    #print(url)\n",
    "    all.append(url)\n",
    "\n",
    "# Initialize an empty list to store the JSON responses\n",
    "rabbit_responses = []\n",
    "\n",
    "# Fetch the JSON response for each URL\n",
    "for url in all:\n",
    "    response = requests.get(url)\n",
    "    rabbit_responses.append(response.json())\n",
    "\n",
    "rabbit_responses"
   ]
  },
  {
   "cell_type": "code",
   "execution_count": 31,
   "id": "b73787ae-ab63-48a5-9f06-c09e301b689f",
   "metadata": {},
   "outputs": [],
   "source": [
    "# Save as .csv\n",
    "rabbit_df_view = pd.DataFrame(rabbit_responses)\n",
    "rabbit_df_view\n",
    "# rabbit_df_view.to_csv(\"./DATA/rabbit_df_view.csv\", index = False)"
   ]
  },
  {
   "cell_type": "markdown",
   "id": "4e31c40f-ff57-4c58-896f-8e4da8326ea8",
   "metadata": {},
   "source": [
    "## 5. PIGS"
   ]
  },
  {
   "cell_type": "code",
   "execution_count": 102,
   "id": "5ca0d53c-049b-44ef-ae6e-060f651c36b4",
   "metadata": {},
   "outputs": [],
   "source": [
    "# PIGS\n",
    "url = \"https://collectionapi.metmuseum.org/public/collection/v1/search?isOnView=true&q=pigs\"\n",
    "response  = requests.get(url)\n",
    "pig = response.json()\n",
    "pig"
   ]
  },
  {
   "cell_type": "code",
   "execution_count": 33,
   "id": "8fef1a9e-ffaf-44b2-84f0-eba39b81ade6",
   "metadata": {},
   "outputs": [],
   "source": [
    "all = []\n",
    "\n",
    "for each in pig[\"objectIDs\"]:\n",
    "    each = str(each)\n",
    "    url = \"https://collectionapi.metmuseum.org/public/collection/v1/objects/\"  + each\n",
    "    #print(url)\n",
    "    all.append(url)\n",
    "\n",
    "# Initialize an empty list to store the JSON responses\n",
    "pig_responses = []\n",
    "\n",
    "# Fetch the JSON response for each URL\n",
    "for url in all:\n",
    "    response = requests.get(url)\n",
    "    pig_responses.append(response.json())\n",
    "\n",
    "pig_responses"
   ]
  },
  {
   "cell_type": "code",
   "execution_count": 35,
   "id": "9b2ff567-dd29-44e7-ba43-18220f4b2461",
   "metadata": {},
   "outputs": [],
   "source": [
    "# Save as .csv\n",
    "pig_df = pd.DataFrame(unicorn_responses)\n",
    "pig_df\n",
    "pig_df.to_csv(\"./DATA/pigs_df_view.csv\", index = False)"
   ]
  },
  {
   "cell_type": "markdown",
   "id": "79b8985d-9953-4289-8647-e8edf733bd00",
   "metadata": {},
   "source": [
    "## 6. MONKEY"
   ]
  },
  {
   "cell_type": "code",
   "execution_count": 103,
   "id": "89611295-0d05-4fbe-b544-0b113265e25a",
   "metadata": {},
   "outputs": [],
   "source": [
    "# Monkey\n",
    "url = \"https://collectionapi.metmuseum.org/public/collection/v1/search?isOnView=true&q=monkey\"\n",
    "response  = requests.get(url)\n",
    "monkey = response.json()"
   ]
  },
  {
   "cell_type": "code",
   "execution_count": 37,
   "id": "9e6441bc-ae98-4b6e-9601-39fc7ba61586",
   "metadata": {},
   "outputs": [],
   "source": [
    "all = []\n",
    "\n",
    "for each in monkey[\"objectIDs\"]:\n",
    "    each = str(each)\n",
    "    url = \"https://collectionapi.metmuseum.org/public/collection/v1/objects/\"  + each\n",
    "    #print(url)\n",
    "    all.append(url)\n",
    "\n",
    "# Initialize an empty list to store the JSON responses\n",
    "monkey_responses = []\n",
    "\n",
    "# Fetch the JSON response for each URL\n",
    "for url in all:\n",
    "    response = requests.get(url)\n",
    "    monkey_responses.append(response.json())\n",
    "\n",
    "monkey_responses"
   ]
  },
  {
   "cell_type": "code",
   "execution_count": 40,
   "id": "666c75f6-fbef-4e9d-9773-13ad419bf1ec",
   "metadata": {},
   "outputs": [],
   "source": [
    "# Save as .csv\n",
    "monkey_df_view = pd.DataFrame(monkey_responses)\n",
    "monkey_df_view\n",
    "#monkey_df_view.to_csv(\"./DATA/monkey_df_view.csv\", index = False)"
   ]
  },
  {
   "cell_type": "markdown",
   "id": "7ca1e66c-9386-448b-807d-78569f67a899",
   "metadata": {},
   "source": [
    "## 7. BULL"
   ]
  },
  {
   "cell_type": "code",
   "execution_count": 104,
   "id": "e4beb967-8a2e-42ba-9947-b185cfdbda9f",
   "metadata": {},
   "outputs": [],
   "source": [
    "# bull\n",
    "url = \"https://collectionapi.metmuseum.org/public/collection/v1/search?isOnView=true&q=bull\"\n",
    "response  = requests.get(url)\n",
    "bull = response.json()\n",
    "\n",
    "all = []\n",
    "\n",
    "for each in bull[\"objectIDs\"]:\n",
    "    each = str(each)\n",
    "    url = \"https://collectionapi.metmuseum.org/public/collection/v1/objects/\"  + each\n",
    "    #print(url)\n",
    "    all.append(url)\n",
    "\n",
    "# Initialize an empty list to store the JSON responses\n",
    "bull_responses = []\n",
    "\n",
    "# Fetch the JSON response for each URL\n",
    "for url in all:\n",
    "    response = requests.get(url)\n",
    "    bull_responses.append(response.json())\n",
    "\n",
    "bull_responses"
   ]
  },
  {
   "cell_type": "code",
   "execution_count": 43,
   "id": "116b6c41-b35e-48d9-a9b6-2b0f55d97142",
   "metadata": {},
   "outputs": [],
   "source": [
    "# Save as .csv\n",
    "bull_df_view = pd.DataFrame(bull_responses)\n",
    "bull_df_view\n",
    "# bull_df_view.to_csv(\"./DATA/bull_df_view.csv\", index = False)"
   ]
  },
  {
   "cell_type": "markdown",
   "id": "74ffb760-652f-4049-9676-dcee77ed19f9",
   "metadata": {},
   "source": [
    "## 8. LION"
   ]
  },
  {
   "cell_type": "code",
   "execution_count": 105,
   "id": "c5b81c32-2bd9-40c0-90c3-dcff6af8ab0d",
   "metadata": {},
   "outputs": [],
   "source": [
    "# LION\n",
    "url = \"https://collectionapi.metmuseum.org/public/collection/v1/search?isOnView=true&q=lion\"\n",
    "response  = requests.get(url)\n",
    "lion = response.json()\n",
    "\n",
    "all = []\n",
    "\n",
    "for each in lion[\"objectIDs\"]:\n",
    "    each = str(each)\n",
    "    url = \"https://collectionapi.metmuseum.org/public/collection/v1/objects/\"  + each\n",
    "    #print(url)\n",
    "    all.append(url)\n",
    "\n",
    "# Initialize an empty list to store the JSON responses\n",
    "lion_responses = []\n",
    "\n",
    "# Fetch the JSON response for each URL\n",
    "for url in all:\n",
    "    response = requests.get(url)\n",
    "    lion_responses.append(response.json())\n",
    "\n",
    "lion_responses"
   ]
  },
  {
   "cell_type": "code",
   "execution_count": 48,
   "id": "a0bc72be-505d-4f56-a869-40fbeedb15e2",
   "metadata": {},
   "outputs": [],
   "source": [
    "# Save as .csv\n",
    "lion_df_view = pd.DataFrame(lion_responses)\n",
    "lion_df_view\n",
    "# lion_df_view.to_csv(\"./DATA/lion_df_view.csv\", index = False)"
   ]
  },
  {
   "cell_type": "markdown",
   "id": "05ac4a96-ea65-4669-b51f-0f841f069d81",
   "metadata": {},
   "source": [
    "## ELEPHANT"
   ]
  },
  {
   "cell_type": "code",
   "execution_count": 106,
   "id": "396bc530-3acf-41e8-9746-be1c949d3e4f",
   "metadata": {},
   "outputs": [],
   "source": [
    "# Elephant\n",
    "url = \"https://collectionapi.metmuseum.org/public/collection/v1/search?isOnView=true&q=elephant\"\n",
    "response  = requests.get(url)\n",
    "elephant = response.json()\n",
    "elephant"
   ]
  },
  {
   "cell_type": "code",
   "execution_count": 107,
   "id": "1cc36529-30fe-46a9-8c27-af336d304ac5",
   "metadata": {},
   "outputs": [],
   "source": [
    "all = []\n",
    "\n",
    "for each in elephant[\"objectIDs\"]:\n",
    "    each = str(each)\n",
    "    url = \"https://collectionapi.metmuseum.org/public/collection/v1/objects/\"  + each\n",
    "    #print(url)\n",
    "    all.append(url)\n",
    "\n",
    "# Initialize an empty list to store the JSON responses\n",
    "elephant_responses = []\n",
    "\n",
    "# Fetch the JSON response for each URL\n",
    "for url in all:\n",
    "    response = requests.get(url)\n",
    "    elephant_responses.append(response.json())\n",
    "\n",
    "elephant_responses"
   ]
  },
  {
   "cell_type": "code",
   "execution_count": 51,
   "id": "47fcfe7d-efc2-4197-8dd3-e102f155bce5",
   "metadata": {},
   "outputs": [],
   "source": [
    "# Save as .csv\n",
    "elephant_df_view = pd.DataFrame(elephant_responses)\n",
    "elephant_df_view\n",
    "# elephant_df_view.to_csv(\"./DATA/elephant_df_view.csv\", index = False)"
   ]
  },
  {
   "cell_type": "markdown",
   "id": "00de33df-8111-4657-95a5-c7cb1efabbae",
   "metadata": {},
   "source": [
    "# ENDS!"
   ]
  }
 ],
 "metadata": {
  "kernelspec": {
   "display_name": "Python 3 (ipykernel)",
   "language": "python",
   "name": "python3"
  },
  "language_info": {
   "codemirror_mode": {
    "name": "ipython",
    "version": 3
   },
   "file_extension": ".py",
   "mimetype": "text/x-python",
   "name": "python",
   "nbconvert_exporter": "python",
   "pygments_lexer": "ipython3",
   "version": "3.11.8"
  }
 },
 "nbformat": 4,
 "nbformat_minor": 5
}
