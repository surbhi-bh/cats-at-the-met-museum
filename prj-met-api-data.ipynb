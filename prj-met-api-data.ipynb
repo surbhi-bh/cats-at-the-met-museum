{
 "cells": [
  {
   "cell_type": "markdown",
   "id": "a723cf03-b2e1-4d12-8155-13f4ad9b16cd",
   "metadata": {},
   "source": [
    "## API calls for The MET animal art story"
   ]
  },
  {
   "cell_type": "markdown",
   "id": "46c83355-a97d-4b27-b7b0-de113dcbfc4b",
   "metadata": {},
   "source": [
    "#### This code fetches data for a list of animals. "
   ]
  },
  {
   "cell_type": "code",
   "execution_count": 1,
   "id": "19fa6e35-e9b5-4814-8c19-8dd838047b67",
   "metadata": {},
   "outputs": [],
   "source": [
    "# Loading libraries\n",
    "import requests\n",
    "import json\n",
    "import pandas as pd\n",
    "import pprint\n",
    "import time"
   ]
  },
  {
   "cell_type": "code",
   "execution_count": 2,
   "id": "ccef4e68-470c-46c0-968a-afcabe3782cc",
   "metadata": {},
   "outputs": [],
   "source": [
    "# Getting a sense of how many artworks there are? Getting all object IDs.\n",
    "url = \"https://collectionapi.metmuseum.org/public/collection/v1/objects\"\n",
    "response  = requests.get(url)\n",
    "total = response.json()"
   ]
  },
  {
   "cell_type": "markdown",
   "id": "7e6d5022-fbe5-4590-aa1a-56048a07d9e1",
   "metadata": {},
   "source": [
    "#### Look at the animals in paintings at The Met using their API:\n",
    "#### NOTE: the url is for cats \"ON VIEW\" currently. Not ALL cats ever in The Met, because that API call was > 470000 and would just not complete even in 3 hours!\n",
    "#### So, the scope of the project is of artwork \"ON VIEW\" only."
   ]
  },
  {
   "cell_type": "code",
   "execution_count": 3,
   "id": "d9b1a347-dc40-43d4-b501-2d3394c40fe7",
   "metadata": {},
   "outputs": [],
   "source": [
    "def fetch_animal(animal, base_url = \"https://collectionapi.metmuseum.org/public/collection/v1/\"):\n",
    "    # Plug animal in url\n",
    "    search_url = f\"{base_url}search?isOnView=true&q={animal}\"\n",
    "    response = requests.get(search_url)\n",
    "    data = response.json()\n",
    "    \n",
    "    # Initialize an empty list to store the object URLs\n",
    "    animal_urls = []\n",
    "    \n",
    "    # Construct the object URLs\n",
    "    for object_id in data.get(\"objectIDs\", []):\n",
    "        animal_urls.append(f\"{base_url}objects/{object_id}\")\n",
    "    \n",
    "    # Initialize an empty list to store the JSON responses\n",
    "    animal_responses = []\n",
    "\n",
    "    count = 0\n",
    "    total = len(animal_urls)\n",
    "\n",
    "    for url in animal_urls:\n",
    "        count += 1\n",
    "        print(f\"Fetching {animal} data {count}/{total}: {url}\")\n",
    "        response = requests.get(url)\n",
    "        animal_responses.append(response.json())\n",
    "    \n",
    "    # Convert the list of responses into a DataFrame\n",
    "    animal_df = pd.DataFrame(animal_responses)\n",
    "    \n",
    "    # Save the DataFrame as a CSV file\n",
    "    file_path = f\"./DATA/{animal}_df_view.csv\"\n",
    "    animal_df.to_csv(file_path, index=False)\n",
    "    \n",
    "    print(f\"Data for {animal} saved to {file_path}\")\n",
    "    return animal_df"
   ]
  },
  {
   "cell_type": "markdown",
   "id": "d4c9589e-9203-4c05-8fd0-d877f672a602",
   "metadata": {},
   "source": [
    "### 1. Cats"
   ]
  },
  {
   "cell_type": "code",
   "execution_count": null,
   "id": "a8b15cfd-a9a8-473e-b420-03f25a143025",
   "metadata": {},
   "outputs": [],
   "source": [
    "cat_df_view = fetch_animal(\"cat\")"
   ]
  },
  {
   "cell_type": "markdown",
   "id": "e692f4c5-1de9-42a6-a731-7d0c7c773132",
   "metadata": {},
   "source": [
    "### 2. Dogs"
   ]
  },
  {
   "cell_type": "code",
   "execution_count": null,
   "id": "8089681c-cb68-43d2-83bf-602c472ff2bb",
   "metadata": {},
   "outputs": [],
   "source": [
    "dog_df_view = fetch_animal(\"dog\")"
   ]
  },
  {
   "cell_type": "markdown",
   "id": "fd1ea43a-02a9-4967-bb91-93c8d46e4240",
   "metadata": {},
   "source": [
    "### 3. Horse"
   ]
  },
  {
   "cell_type": "code",
   "execution_count": 6,
   "id": "34063a52-1d8d-4886-aad8-6795ba2922ea",
   "metadata": {},
   "outputs": [],
   "source": [
    "horse_df_view = fetch_animal(\"horse\")"
   ]
  },
  {
   "cell_type": "markdown",
   "id": "a3af6109-3fe6-4a0f-a0a4-766a5f93b918",
   "metadata": {},
   "source": [
    "### 4. Rabbit"
   ]
  },
  {
   "cell_type": "code",
   "execution_count": null,
   "id": "9ec9ba2d-a9e4-410f-b86a-130688c7667d",
   "metadata": {},
   "outputs": [],
   "source": [
    "rabbit_df_view = fetch_animal(\"rabbit\")"
   ]
  },
  {
   "cell_type": "markdown",
   "id": "4d204f9a-d41a-4391-b0fe-5f110b029ff8",
   "metadata": {},
   "source": [
    "### 5. Pig"
   ]
  },
  {
   "cell_type": "code",
   "execution_count": null,
   "id": "a37bc0a0-5d73-4dc8-b2f5-6a1f83ba84df",
   "metadata": {},
   "outputs": [],
   "source": [
    "pigs_df_view = fetch_animal(\"pig\")"
   ]
  },
  {
   "cell_type": "markdown",
   "id": "c876c698-471c-4462-83fc-e90cfc5b1dd2",
   "metadata": {},
   "source": [
    "### 6. Monkey"
   ]
  },
  {
   "cell_type": "code",
   "execution_count": null,
   "id": "d23a141c-57e4-4987-a8e7-f8fd8cce5cf5",
   "metadata": {},
   "outputs": [],
   "source": [
    "monkey_df_view = fetch_animal(\"monkey\")"
   ]
  },
  {
   "cell_type": "markdown",
   "id": "f3853259-248f-4b47-a673-6fa5d63289ef",
   "metadata": {},
   "source": [
    "### 7. Bull"
   ]
  },
  {
   "cell_type": "code",
   "execution_count": 7,
   "id": "e9130d16-3951-4344-9a09-9de9566af5f4",
   "metadata": {},
   "outputs": [],
   "source": [
    "bull_df_view = fetch_animal(\"bull\")"
   ]
  },
  {
   "cell_type": "markdown",
   "id": "74ffb760-652f-4049-9676-dcee77ed19f9",
   "metadata": {},
   "source": [
    "### 8. Lion"
   ]
  },
  {
   "cell_type": "code",
   "execution_count": 105,
   "id": "c5b81c32-2bd9-40c0-90c3-dcff6af8ab0d",
   "metadata": {},
   "outputs": [],
   "source": [
    "lion_df_view = fetch_animal(\"lion\")"
   ]
  },
  {
   "cell_type": "markdown",
   "id": "05ac4a96-ea65-4669-b51f-0f841f069d81",
   "metadata": {},
   "source": [
    "### 9. Elephant"
   ]
  },
  {
   "cell_type": "code",
   "execution_count": null,
   "id": "28673e93-2498-4b86-9c25-67a24acd098b",
   "metadata": {},
   "outputs": [],
   "source": [
    "elephant_df_view = fetch_animal(\"elephant\")"
   ]
  },
  {
   "cell_type": "markdown",
   "id": "00de33df-8111-4657-95a5-c7cb1efabbae",
   "metadata": {},
   "source": [
    "# ENDS!"
   ]
  }
 ],
 "metadata": {
  "kernelspec": {
   "display_name": "Python 3 (ipykernel)",
   "language": "python",
   "name": "python3"
  },
  "language_info": {
   "codemirror_mode": {
    "name": "ipython",
    "version": 3
   },
   "file_extension": ".py",
   "mimetype": "text/x-python",
   "name": "python",
   "nbconvert_exporter": "python",
   "pygments_lexer": "ipython3",
   "version": "3.11.8"
  }
 },
 "nbformat": 4,
 "nbformat_minor": 5
}
